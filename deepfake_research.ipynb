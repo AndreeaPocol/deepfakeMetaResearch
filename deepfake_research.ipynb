{
 "cells": [
  {
   "cell_type": "code",
   "execution_count": 1,
   "id": "e879bc27",
   "metadata": {},
   "outputs": [],
   "source": [
    "import requests\n",
    "import matplotlib.pyplot as plt\n",
    "import csv\n",
    "import pandas as pd\n",
    "import plotly.express as px\n",
    "\n",
    "\n",
    "def writeToFile(papers_by_year, save_path):\n",
    "    field_names = [\"Year\", \"NumPapers\"]\n",
    "    with open(save_path, \"w+\") as file:\n",
    "        csvWriter = csv.writer(file, delimiter=\",\")\n",
    "        csvWriter.writerow(field_names)\n",
    "        for key in papers_by_year.keys():\n",
    "            file.write(\"%s, %s\\n\" % (key, papers_by_year[key]))\n",
    "\n",
    "\n",
    "def fetchDeepfakePapers(query):\n",
    "    papers_by_year = {}\n",
    "    for year in range(2000, 2023):\n",
    "        result = requests.get(\n",
    "            \"http://api.semanticscholar.org/graph/v1/paper/search?query={}&year={}\".format(\n",
    "                query, year\n",
    "            )\n",
    "        )\n",
    "\n",
    "        if result.reason != \"OK\":\n",
    "            print(\"Error: \", result.status_code, result.reason)\n",
    "            exit\n",
    "\n",
    "        paper_records = result.json()\n",
    "        num_papers = paper_records[\"total\"]\n",
    "        print(\"Total number of {} papers in {}: {}\".format(query, year, num_papers))\n",
    "        papers_by_year[year] = num_papers\n",
    "\n",
    "        return papers_by_year\n",
    "\n",
    "\n",
    "def plotData(file, title):\n",
    "    df = pd.read_csv(file)\n",
    "    fig = px.line(df, y=df.columns, x=\"Year\", title=title)\n",
    "    fig.show()"
   ]
  },
  {
   "cell_type": "code",
   "execution_count": 2,
   "id": "0bbba76f",
   "metadata": {},
   "outputs": [],
   "source": [
    "deepfake_file = \"num_deepfake_papers_by_year.csv\"\n",
    "deepfake_ethics_file = \"num_deepfake_ethics_papers_by_year.csv\"\n",
    "combined_file = \"combined_data.csv\""
   ]
  },
  {
   "cell_type": "code",
   "execution_count": null,
   "id": "48ca7848",
   "metadata": {},
   "outputs": [],
   "source": [
    "deepfake_papers_by_year = fetchDeepfakePapers(\"deepfake\")"
   ]
  },
  {
   "cell_type": "code",
   "execution_count": null,
   "id": "6f02a875",
   "metadata": {},
   "outputs": [],
   "source": [
    "deepfake_ethics_papers_by_year = fetchDeepfakePapers(\"deepfake+ethic\")"
   ]
  },
  {
   "cell_type": "code",
   "execution_count": null,
   "id": "25b9900c",
   "metadata": {},
   "outputs": [],
   "source": [
    "writeToFile(deepfake_papers_by_year, save_path=deepfake_file)"
   ]
  },
  {
   "cell_type": "code",
   "execution_count": null,
   "id": "cff259c8",
   "metadata": {},
   "outputs": [],
   "source": [
    "writeToFile(deepfake_ethics_papers_by_year, save_path=deepfake_ethics_file)"
   ]
  },
  {
   "cell_type": "code",
   "execution_count": null,
   "id": "72a7a23c",
   "metadata": {},
   "outputs": [],
   "source": [
    "plotData(deepfake_file, \"Number of Deepfake Paper Publications Over Time\")"
   ]
  },
  {
   "cell_type": "code",
   "execution_count": null,
   "id": "fe947425",
   "metadata": {},
   "outputs": [],
   "source": [
    "plotData(deepfake_ethics_file, \"Number of Deepfake Paper Publications With Ethical Considerations Over Time\")"
   ]
  },
  {
   "cell_type": "code",
   "execution_count": null,
   "id": "f03eb7fd",
   "metadata": {},
   "outputs": [],
   "source": [
    "plotData(\n",
    "    combined_file,\n",
    "    \"Number of Deepfake Paper Publications With Ethical Considerations Over Time\",\n",
    ")"
   ]
  },
  {
   "cell_type": "code",
   "execution_count": null,
   "id": "1d6f4c72",
   "metadata": {},
   "outputs": [],
   "source": []
  }
 ],
 "metadata": {
  "celltoolbar": "Slideshow",
  "kernelspec": {
   "display_name": "Python 3.9.10 64-bit",
   "language": "python",
   "name": "python3"
  },
  "language_info": {
   "codemirror_mode": {
    "name": "ipython",
    "version": 3
   },
   "file_extension": ".py",
   "mimetype": "text/x-python",
   "name": "python",
   "nbconvert_exporter": "python",
   "pygments_lexer": "ipython3",
   "version": "3.9.10"
  },
  "vscode": {
   "interpreter": {
    "hash": "aee8b7b246df8f9039afb4144a1f6fd8d2ca17a180786b69acc140d282b71a49"
   }
  }
 },
 "nbformat": 4,
 "nbformat_minor": 5
}
