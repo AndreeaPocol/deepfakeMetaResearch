{
 "cells": [
  {
   "cell_type": "markdown",
   "id": "bb536360",
   "metadata": {},
   "source": [
    "# Most cited deepfake papers"
   ]
  },
  {
   "cell_type": "code",
   "execution_count": 2,
   "id": "2cfc1947",
   "metadata": {},
   "outputs": [
    {
     "ename": "ModuleNotFoundError",
     "evalue": "No module named 'S2search'",
     "output_type": "error",
     "traceback": [
      "\u001b[0;31m---------------------------------------------------------------------------\u001b[0m",
      "\u001b[0;31mModuleNotFoundError\u001b[0m                       Traceback (most recent call last)",
      "Cell \u001b[0;32mIn[2], line 1\u001b[0m\n\u001b[0;32m----> 1\u001b[0m \u001b[39mfrom\u001b[39;00m \u001b[39mS2search\u001b[39;00m \u001b[39mimport\u001b[39;00m S2paperWeb\n\u001b[1;32m      2\u001b[0m m \u001b[39m=\u001b[39m S2paperWeb()\n\u001b[1;32m      3\u001b[0m numEntries \u001b[39m=\u001b[39m \u001b[39m5\u001b[39m\n",
      "\u001b[0;31mModuleNotFoundError\u001b[0m: No module named 'S2search'"
     ]
    }
   ],
   "source": [
    "from S2search import S2paperWeb\n",
    "m = S2paperWeb()\n",
    "numEntries = 5\n",
    "m.get(\"deepfake\", n=numEntries, sort=\"total-citations\")\n",
    "for i in range(0, numEntries):\n",
    "    id = m.all['Results'][0]['Page']['Papers'][i][\"id\"]\n",
    "    numCitations = m.all['Results'][0]['Page']['Papers'][i][\"citationStats\"][\"numCitations\"]\n",
    "    print(\"Paper \", id, \" has \", numCitations, \" citations.\")\n"
   ]
  },
  {
   "attachments": {},
   "cell_type": "markdown",
   "id": "98e9c14e",
   "metadata": {},
   "source": [
    "# Most prolific institutions for deepfake research"
   ]
  },
  {
   "cell_type": "code",
   "execution_count": null,
   "id": "af45fad2",
   "metadata": {},
   "outputs": [],
   "source": [
    "most_cited_papers = [\"37033b779765b5ed3b3eaaf8e1d5c5a62ff02e85\", \"2d066beb34469559e0fc5e5ab4d68dc736cfd46f\", \"300d08e8f5c310c2b194b7eb94398e480994d5cc\", \"3d26fb6e819a79b6abd4964d8d96314e74f73423\", \"2cdb1b96846609a965496236eaccb54b1790daab\"]\n",
    "papers_by_institution = {}\n",
    "# for every prolific paper...\n",
    "for paper in most_cited_papers:\n",
    "    result = requests.get(\n",
    "        \"https://api.semanticscholar.org/graph/v1/paper/{id}/authors\".format(\n",
    "            id=paper,\n",
    "        )\n",
    "    )\n",
    "\n",
    "    if result.reason != \"OK\":\n",
    "        print(\"Error: \", result.status_code, result.reason)\n",
    "        exit\n",
    "\n",
    "    authors = result.json()[\"data\"]\n",
    "    # for every one of its authors...\n",
    "    for i in range(0, len(authors)):\n",
    "        id = authors[i][\"authorId\"]\n",
    "        result = requests.get(\"https://api.semanticscholar.org/graph/v1/author/{id}?fields=affiliations\".format(\n",
    "            id=id)\n",
    "        )\n",
    "    \n",
    "        # for every author's affiliations...\n",
    "        if result.reason != \"OK\":\n",
    "            print(\"Error: \", result.status_code, result.reason)\n",
    "            exit\n",
    "            \n",
    "        affiliations = result.json()[\"affiliations\"]\n",
    "        for a in affiliations:\n",
    "            if a in papers_by_institution:\n",
    "                papers_by_institution[a] += 1\n",
    "            else:\n",
    "                papers_by_institution[a] = 1\n",
    "                \n",
    "print(papers_by_institution)\n",
    "    "
   ]
  }
 ],
 "metadata": {
  "celltoolbar": "Slideshow",
  "kernelspec": {
   "display_name": "Python 3.9.10 64-bit",
   "language": "python",
   "name": "python3"
  },
  "language_info": {
   "codemirror_mode": {
    "name": "ipython",
    "version": 3
   },
   "file_extension": ".py",
   "mimetype": "text/x-python",
   "name": "python",
   "nbconvert_exporter": "python",
   "pygments_lexer": "ipython3",
   "version": "3.9.6"
  },
  "vscode": {
   "interpreter": {
    "hash": "aee8b7b246df8f9039afb4144a1f6fd8d2ca17a180786b69acc140d282b71a49"
   }
  }
 },
 "nbformat": 4,
 "nbformat_minor": 5
}
